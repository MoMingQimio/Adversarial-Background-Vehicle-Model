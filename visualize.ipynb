{
 "cells": [
  {
   "cell_type": "code",
   "execution_count": null,
   "metadata": {},
   "outputs": [],
   "source": [
    "import json\n",
    "\n",
    "# 将优化结果转换为JSON字符串\n",
    "results_json = json.dumps(optimizer.res, indent=4)\n",
    "\n",
    "# 将JSON字符串写入文件\n",
    "with open(\"bayesian_optimization_results.json\", \"w\") as f:\n",
    "    f.write(results_json)\n",
    "\n",
    "print(\"优化结果已保存到 'bayesian_optimization_results.json'\")"
   ]
  },
  {
   "cell_type": "code",
   "execution_count": null,
   "metadata": {},
   "outputs": [],
   "source": [
    "# 要将贝叶斯优化的过程保存在文件中，你可以将结果序列化成JSON格式，这是一种轻量级的数据交换格式，易于人阅读和编写，同时也易于机器解析和生成。以下是如何将优化结果保存到文件的步骤：\n",
    "\n",
    "# 1. **保存优化结果**：使用Python的`json`模块将`optimizer.res`序列化并保存到文件。\n",
    "\n",
    "# 2. **读取和可视化**：编写一个可视化函数，从保存的JSON文件中读取数据，并绘制图表。\n",
    "\n",
    "# ### 保存优化结果到文件\n",
    "\n",
    "\n",
    "\n",
    "\n",
    "import matplotlib.pyplot as plt\n",
    "\n",
    "# 定义一个函数来可视化结果\n",
    "def visualize_results(filename):\n",
    "    # 从文件中读取JSON数据\n",
    "    with open(filename, \"r\") as f:\n",
    "        data = json.load(f)\n",
    "\n",
    "    # 提取参数和对应的平均奖励值\n",
    "    params = [(res['p1'], res['p2'], res['p3'], res['p4'], res['q1']) for res in data]\n",
    "    mean_rewards = [res['target'] for res in data]\n",
    "\n",
    "    # 将参数格式化为字符串\n",
    "    params_str = ['_'.join(map(str, param)) for param in params]\n",
    "\n",
    "    # 绘制折线图\n",
    "    plt.figure(figsize=(10, 6))\n",
    "    plt.plot(mean_rewards, marker='o')\n",
    "    plt.xticks(range(len(params_str)), params_str, rotation=45)\n",
    "    plt.xlabel('Parameters')\n",
    "    plt.ylabel('Mean Reward')\n",
    "    plt.title('Mean Reward vs Parameters')\n",
    "    plt.grid(True)\n",
    "    plt.tight_layout()\n",
    "    plt.show()\n",
    "\n",
    "# 调用函数，传入文件名\n",
    "visualize_results(\"bayesian_optimization_results.json\")"
   ]
  }
 ],
 "metadata": {
  "language_info": {
   "name": "python"
  }
 },
 "nbformat": 4,
 "nbformat_minor": 2
}
